{
 "cells": [
  {
   "cell_type": "code",
   "execution_count": 1,
   "id": "2d72e199-ac72-4990-81af-99b804076398",
   "metadata": {},
   "outputs": [],
   "source": [
    "import pandas as pd \n",
    "import numpy as np \n",
    "import seaborn as sns\n",
    "import matplotlib.pyplot as plt\n",
    "import warnings\n",
    "from datetime import datetime\n",
    "warnings.filterwarnings(\"ignore\")"
   ]
  },
  {
   "cell_type": "code",
   "execution_count": 2,
   "id": "0f08e698-8abe-4624-b900-544d881984eb",
   "metadata": {},
   "outputs": [
    {
     "data": {
      "text/html": [
       "<div>\n",
       "<style scoped>\n",
       "    .dataframe tbody tr th:only-of-type {\n",
       "        vertical-align: middle;\n",
       "    }\n",
       "\n",
       "    .dataframe tbody tr th {\n",
       "        vertical-align: top;\n",
       "    }\n",
       "\n",
       "    .dataframe thead th {\n",
       "        text-align: right;\n",
       "    }\n",
       "</style>\n",
       "<table border=\"1\" class=\"dataframe\">\n",
       "  <thead>\n",
       "    <tr style=\"text-align: right;\">\n",
       "      <th></th>\n",
       "      <th>ID</th>\n",
       "      <th>Host ID</th>\n",
       "      <th>Host Name</th>\n",
       "      <th>Host Since</th>\n",
       "      <th>Host Response Rate</th>\n",
       "      <th>Host Listings Count</th>\n",
       "      <th>Host Total Listings Count</th>\n",
       "      <th>City</th>\n",
       "      <th>State</th>\n",
       "      <th>Zipcode</th>\n",
       "      <th>...</th>\n",
       "      <th>Security Deposit</th>\n",
       "      <th>Cleaning Fee</th>\n",
       "      <th>Guests Included</th>\n",
       "      <th>Extra People</th>\n",
       "      <th>Minimum Nights</th>\n",
       "      <th>Maximum Nights</th>\n",
       "      <th>Number of Reviews</th>\n",
       "      <th>Review Scores Rating</th>\n",
       "      <th>Cancellation Policy</th>\n",
       "      <th>Reviews per Month</th>\n",
       "    </tr>\n",
       "  </thead>\n",
       "  <tbody>\n",
       "    <tr>\n",
       "      <th>0</th>\n",
       "      <td>6165738</td>\n",
       "      <td>31986651</td>\n",
       "      <td>Bernard</td>\n",
       "      <td>42120.0</td>\n",
       "      <td>100.0</td>\n",
       "      <td>1.0</td>\n",
       "      <td>1.0</td>\n",
       "      <td>Thoiry</td>\n",
       "      <td>Rhône-Alpes</td>\n",
       "      <td>1710</td>\n",
       "      <td>...</td>\n",
       "      <td>NaN</td>\n",
       "      <td>NaN</td>\n",
       "      <td>1</td>\n",
       "      <td>0</td>\n",
       "      <td>1</td>\n",
       "      <td>1125</td>\n",
       "      <td>0</td>\n",
       "      <td>NaN</td>\n",
       "      <td>flexible</td>\n",
       "      <td>NaN</td>\n",
       "    </tr>\n",
       "    <tr>\n",
       "      <th>1</th>\n",
       "      <td>13908935</td>\n",
       "      <td>82489826</td>\n",
       "      <td>Enice</td>\n",
       "      <td>42559.0</td>\n",
       "      <td>100.0</td>\n",
       "      <td>1.0</td>\n",
       "      <td>1.0</td>\n",
       "      <td>Gaillard</td>\n",
       "      <td>Auvergne Rhône-Alpes</td>\n",
       "      <td>74240</td>\n",
       "      <td>...</td>\n",
       "      <td>560.0</td>\n",
       "      <td>28.0</td>\n",
       "      <td>1</td>\n",
       "      <td>6</td>\n",
       "      <td>2</td>\n",
       "      <td>30</td>\n",
       "      <td>1</td>\n",
       "      <td>80.0</td>\n",
       "      <td>moderate</td>\n",
       "      <td>1.00</td>\n",
       "    </tr>\n",
       "    <tr>\n",
       "      <th>2</th>\n",
       "      <td>7713011</td>\n",
       "      <td>32492446</td>\n",
       "      <td>Vincent</td>\n",
       "      <td>42127.0</td>\n",
       "      <td>100.0</td>\n",
       "      <td>7.0</td>\n",
       "      <td>7.0</td>\n",
       "      <td>Paris</td>\n",
       "      <td>Île-de-France</td>\n",
       "      <td>75018</td>\n",
       "      <td>...</td>\n",
       "      <td>100.0</td>\n",
       "      <td>30.0</td>\n",
       "      <td>1</td>\n",
       "      <td>5</td>\n",
       "      <td>4</td>\n",
       "      <td>365</td>\n",
       "      <td>37</td>\n",
       "      <td>85.0</td>\n",
       "      <td>strict</td>\n",
       "      <td>1.84</td>\n",
       "    </tr>\n",
       "    <tr>\n",
       "      <th>3</th>\n",
       "      <td>3335054</td>\n",
       "      <td>2726446</td>\n",
       "      <td>Pascale</td>\n",
       "      <td>41084.0</td>\n",
       "      <td>NaN</td>\n",
       "      <td>1.0</td>\n",
       "      <td>1.0</td>\n",
       "      <td>Paris</td>\n",
       "      <td>Île-de-France</td>\n",
       "      <td>75018</td>\n",
       "      <td>...</td>\n",
       "      <td>150.0</td>\n",
       "      <td>15.0</td>\n",
       "      <td>1</td>\n",
       "      <td>0</td>\n",
       "      <td>3</td>\n",
       "      <td>1125</td>\n",
       "      <td>1</td>\n",
       "      <td>100.0</td>\n",
       "      <td>moderate</td>\n",
       "      <td>0.03</td>\n",
       "    </tr>\n",
       "    <tr>\n",
       "      <th>4</th>\n",
       "      <td>10066518</td>\n",
       "      <td>30432969</td>\n",
       "      <td>Lea</td>\n",
       "      <td>42095.0</td>\n",
       "      <td>95.0</td>\n",
       "      <td>2.0</td>\n",
       "      <td>2.0</td>\n",
       "      <td>Paris</td>\n",
       "      <td>Île-de-France</td>\n",
       "      <td>75018</td>\n",
       "      <td>...</td>\n",
       "      <td>NaN</td>\n",
       "      <td>15.0</td>\n",
       "      <td>1</td>\n",
       "      <td>0</td>\n",
       "      <td>2</td>\n",
       "      <td>1125</td>\n",
       "      <td>13</td>\n",
       "      <td>97.0</td>\n",
       "      <td>moderate</td>\n",
       "      <td>0.89</td>\n",
       "    </tr>\n",
       "    <tr>\n",
       "      <th>...</th>\n",
       "      <td>...</td>\n",
       "      <td>...</td>\n",
       "      <td>...</td>\n",
       "      <td>...</td>\n",
       "      <td>...</td>\n",
       "      <td>...</td>\n",
       "      <td>...</td>\n",
       "      <td>...</td>\n",
       "      <td>...</td>\n",
       "      <td>...</td>\n",
       "      <td>...</td>\n",
       "      <td>...</td>\n",
       "      <td>...</td>\n",
       "      <td>...</td>\n",
       "      <td>...</td>\n",
       "      <td>...</td>\n",
       "      <td>...</td>\n",
       "      <td>...</td>\n",
       "      <td>...</td>\n",
       "      <td>...</td>\n",
       "      <td>...</td>\n",
       "    </tr>\n",
       "    <tr>\n",
       "      <th>56557</th>\n",
       "      <td>2610162</td>\n",
       "      <td>13368008</td>\n",
       "      <td>Réda</td>\n",
       "      <td>41719.0</td>\n",
       "      <td>60.0</td>\n",
       "      <td>1.0</td>\n",
       "      <td>1.0</td>\n",
       "      <td>Paris</td>\n",
       "      <td>Île-de-France</td>\n",
       "      <td>75007</td>\n",
       "      <td>...</td>\n",
       "      <td>250.0</td>\n",
       "      <td>10.0</td>\n",
       "      <td>1</td>\n",
       "      <td>0</td>\n",
       "      <td>2</td>\n",
       "      <td>91</td>\n",
       "      <td>14</td>\n",
       "      <td>85.0</td>\n",
       "      <td>moderate</td>\n",
       "      <td>1.06</td>\n",
       "    </tr>\n",
       "    <tr>\n",
       "      <th>56558</th>\n",
       "      <td>13760682</td>\n",
       "      <td>8684576</td>\n",
       "      <td>H. M.</td>\n",
       "      <td>41524.0</td>\n",
       "      <td>83.0</td>\n",
       "      <td>2.0</td>\n",
       "      <td>2.0</td>\n",
       "      <td>Paris</td>\n",
       "      <td>Île-de-France</td>\n",
       "      <td>75007</td>\n",
       "      <td>...</td>\n",
       "      <td>NaN</td>\n",
       "      <td>100.0</td>\n",
       "      <td>4</td>\n",
       "      <td>50</td>\n",
       "      <td>2</td>\n",
       "      <td>15</td>\n",
       "      <td>4</td>\n",
       "      <td>100.0</td>\n",
       "      <td>strict</td>\n",
       "      <td>0.56</td>\n",
       "    </tr>\n",
       "    <tr>\n",
       "      <th>56559</th>\n",
       "      <td>9173969</td>\n",
       "      <td>47740911</td>\n",
       "      <td>Host</td>\n",
       "      <td>42306.0</td>\n",
       "      <td>NaN</td>\n",
       "      <td>1.0</td>\n",
       "      <td>1.0</td>\n",
       "      <td>Paris</td>\n",
       "      <td>Île-de-France</td>\n",
       "      <td>75007</td>\n",
       "      <td>...</td>\n",
       "      <td>NaN</td>\n",
       "      <td>NaN</td>\n",
       "      <td>1</td>\n",
       "      <td>0</td>\n",
       "      <td>1</td>\n",
       "      <td>1125</td>\n",
       "      <td>0</td>\n",
       "      <td>NaN</td>\n",
       "      <td>flexible</td>\n",
       "      <td>NaN</td>\n",
       "    </tr>\n",
       "    <tr>\n",
       "      <th>56560</th>\n",
       "      <td>13754942</td>\n",
       "      <td>35042224</td>\n",
       "      <td>Arnaud</td>\n",
       "      <td>42160.0</td>\n",
       "      <td>NaN</td>\n",
       "      <td>1.0</td>\n",
       "      <td>1.0</td>\n",
       "      <td>Paris</td>\n",
       "      <td>Île-de-France</td>\n",
       "      <td>75007</td>\n",
       "      <td>...</td>\n",
       "      <td>500.0</td>\n",
       "      <td>36.0</td>\n",
       "      <td>1</td>\n",
       "      <td>0</td>\n",
       "      <td>4</td>\n",
       "      <td>500</td>\n",
       "      <td>3</td>\n",
       "      <td>100.0</td>\n",
       "      <td>strict</td>\n",
       "      <td>0.34</td>\n",
       "    </tr>\n",
       "    <tr>\n",
       "      <th>56561</th>\n",
       "      <td>8642835</td>\n",
       "      <td>12437830</td>\n",
       "      <td>Katherine</td>\n",
       "      <td>41691.0</td>\n",
       "      <td>NaN</td>\n",
       "      <td>1.0</td>\n",
       "      <td>1.0</td>\n",
       "      <td>Paris</td>\n",
       "      <td>Île-de-France</td>\n",
       "      <td>75007</td>\n",
       "      <td>...</td>\n",
       "      <td>500.0</td>\n",
       "      <td>40.0</td>\n",
       "      <td>1</td>\n",
       "      <td>0</td>\n",
       "      <td>3</td>\n",
       "      <td>1125</td>\n",
       "      <td>1</td>\n",
       "      <td>100.0</td>\n",
       "      <td>flexible</td>\n",
       "      <td>0.06</td>\n",
       "    </tr>\n",
       "  </tbody>\n",
       "</table>\n",
       "<p>56562 rows × 32 columns</p>\n",
       "</div>"
      ],
      "text/plain": [
       "             ID   Host ID  Host Name  Host Since  Host Response Rate  \\\n",
       "0       6165738  31986651    Bernard     42120.0               100.0   \n",
       "1      13908935  82489826      Enice     42559.0               100.0   \n",
       "2       7713011  32492446    Vincent     42127.0               100.0   \n",
       "3       3335054   2726446    Pascale     41084.0                 NaN   \n",
       "4      10066518  30432969        Lea     42095.0                95.0   \n",
       "...         ...       ...        ...         ...                 ...   \n",
       "56557   2610162  13368008       Réda     41719.0                60.0   \n",
       "56558  13760682   8684576      H. M.     41524.0                83.0   \n",
       "56559   9173969  47740911       Host     42306.0                 NaN   \n",
       "56560  13754942  35042224     Arnaud     42160.0                 NaN   \n",
       "56561   8642835  12437830  Katherine     41691.0                 NaN   \n",
       "\n",
       "       Host Listings Count  Host Total Listings Count      City  \\\n",
       "0                      1.0                        1.0    Thoiry   \n",
       "1                      1.0                        1.0  Gaillard   \n",
       "2                      7.0                        7.0     Paris   \n",
       "3                      1.0                        1.0     Paris   \n",
       "4                      2.0                        2.0     Paris   \n",
       "...                    ...                        ...       ...   \n",
       "56557                  1.0                        1.0     Paris   \n",
       "56558                  2.0                        2.0     Paris   \n",
       "56559                  1.0                        1.0     Paris   \n",
       "56560                  1.0                        1.0     Paris   \n",
       "56561                  1.0                        1.0     Paris   \n",
       "\n",
       "                      State Zipcode  ... Security Deposit Cleaning Fee  \\\n",
       "0               Rhône-Alpes    1710  ...              NaN          NaN   \n",
       "1      Auvergne Rhône-Alpes   74240  ...            560.0         28.0   \n",
       "2             Île-de-France   75018  ...            100.0         30.0   \n",
       "3             Île-de-France   75018  ...            150.0         15.0   \n",
       "4             Île-de-France   75018  ...              NaN         15.0   \n",
       "...                     ...     ...  ...              ...          ...   \n",
       "56557         Île-de-France   75007  ...            250.0         10.0   \n",
       "56558         Île-de-France   75007  ...              NaN        100.0   \n",
       "56559         Île-de-France   75007  ...              NaN          NaN   \n",
       "56560         Île-de-France   75007  ...            500.0         36.0   \n",
       "56561         Île-de-France   75007  ...            500.0         40.0   \n",
       "\n",
       "      Guests Included  Extra People  Minimum Nights  Maximum Nights  \\\n",
       "0                   1             0               1            1125   \n",
       "1                   1             6               2              30   \n",
       "2                   1             5               4             365   \n",
       "3                   1             0               3            1125   \n",
       "4                   1             0               2            1125   \n",
       "...               ...           ...             ...             ...   \n",
       "56557               1             0               2              91   \n",
       "56558               4            50               2              15   \n",
       "56559               1             0               1            1125   \n",
       "56560               1             0               4             500   \n",
       "56561               1             0               3            1125   \n",
       "\n",
       "       Number of Reviews Review Scores Rating Cancellation Policy  \\\n",
       "0                      0                  NaN            flexible   \n",
       "1                      1                 80.0            moderate   \n",
       "2                     37                 85.0              strict   \n",
       "3                      1                100.0            moderate   \n",
       "4                     13                 97.0            moderate   \n",
       "...                  ...                  ...                 ...   \n",
       "56557                 14                 85.0            moderate   \n",
       "56558                  4                100.0              strict   \n",
       "56559                  0                  NaN            flexible   \n",
       "56560                  3                100.0              strict   \n",
       "56561                  1                100.0            flexible   \n",
       "\n",
       "       Reviews per Month  \n",
       "0                    NaN  \n",
       "1                   1.00  \n",
       "2                   1.84  \n",
       "3                   0.03  \n",
       "4                   0.89  \n",
       "...                  ...  \n",
       "56557               1.06  \n",
       "56558               0.56  \n",
       "56559                NaN  \n",
       "56560               0.34  \n",
       "56561               0.06  \n",
       "\n",
       "[56562 rows x 32 columns]"
      ]
     },
     "execution_count": 2,
     "metadata": {},
     "output_type": "execute_result"
    }
   ],
   "source": [
    "france_df = pd.read_csv(r\"C:\\Users\\ANUSHA\\Documents\\Course_10_Capstone Project\\Data_Files\\France.csv\")\n",
    "france_df"
   ]
  },
  {
   "cell_type": "code",
   "execution_count": 3,
   "id": "c4a8eeb3-6636-41cb-b7e3-caa4122c4884",
   "metadata": {},
   "outputs": [
    {
     "name": "stdout",
     "output_type": "stream",
     "text": [
      "57\n"
     ]
    }
   ],
   "source": [
    "# Convert Price column to numeric, force errors to NaN\n",
    "france_df['Price'] = pd.to_numeric(france_df['Price'], errors='coerce')\n",
    "\n",
    "# Now check for NaNs\n",
    "print(france_df['Price'].isnull().sum())"
   ]
  },
  {
   "cell_type": "code",
   "execution_count": 4,
   "id": "f653e743-740c-4338-ba07-d4212756d9ed",
   "metadata": {},
   "outputs": [
    {
     "data": {
      "text/plain": [
       "40234"
      ]
     },
     "execution_count": 4,
     "metadata": {},
     "output_type": "execute_result"
    }
   ],
   "source": [
    "france_df['Weekly Price'].isnull().sum()"
   ]
  },
  {
   "cell_type": "code",
   "execution_count": 5,
   "id": "956da5e9-dd92-4d20-a9f8-38544553fad2",
   "metadata": {},
   "outputs": [
    {
     "data": {
      "text/plain": [
       "44214"
      ]
     },
     "execution_count": 5,
     "metadata": {},
     "output_type": "execute_result"
    }
   ],
   "source": [
    "france_df['Monthly Price'].isnull().sum()"
   ]
  },
  {
   "cell_type": "code",
   "execution_count": 6,
   "id": "08ff8b1f-d97b-41b0-9c3e-0ee0a6fef441",
   "metadata": {},
   "outputs": [],
   "source": [
    "# Fill Weekly Price using 10% discount from daily price\n",
    "france_df['Weekly Price'] = france_df['Weekly Price'].fillna(france_df['Price'] * 7 * 0.9)\n",
    "\n",
    "# Fill Monthly Price using 20% discount from daily price\n",
    "france_df['Monthly Price'] = france_df['Monthly Price'].fillna(france_df['Price'] * 30 * 0.8)"
   ]
  },
  {
   "cell_type": "code",
   "execution_count": 7,
   "id": "e8b0c5e4-6c62-433a-b3c4-3470f2817d69",
   "metadata": {},
   "outputs": [],
   "source": [
    "# Step 1: Fill Price using Monthly Price (reverse of 20% discount)\n",
    "france_df.loc[france_df['Price'].isna() & france_df['Monthly Price'].notna(), 'Price'] = (\n",
    "    france_df['Monthly Price'] / 30 / 0.8\n",
    ")"
   ]
  },
  {
   "cell_type": "code",
   "execution_count": 8,
   "id": "752b88b1-0737-4087-9656-1c25ad4394d7",
   "metadata": {},
   "outputs": [],
   "source": [
    "france_df.loc[france_df['Price'].isna() & france_df['Weekly Price'].notna(), 'Price'] = (\n",
    "    france_df['Weekly Price'] / 7 / 0.9)"
   ]
  },
  {
   "cell_type": "code",
   "execution_count": 9,
   "id": "0a419654-3d28-4dd8-9590-02a2984f76d6",
   "metadata": {},
   "outputs": [
    {
     "data": {
      "text/plain": [
       "54"
      ]
     },
     "execution_count": 9,
     "metadata": {},
     "output_type": "execute_result"
    }
   ],
   "source": [
    "france_df['Weekly Price'].isnull().sum()"
   ]
  },
  {
   "cell_type": "code",
   "execution_count": 10,
   "id": "e7ee08f5-db79-4167-b0cc-4c094dac4d45",
   "metadata": {},
   "outputs": [
    {
     "data": {
      "text/plain": [
       "46"
      ]
     },
     "execution_count": 10,
     "metadata": {},
     "output_type": "execute_result"
    }
   ],
   "source": [
    "france_df['Monthly Price'].isnull().sum()"
   ]
  },
  {
   "cell_type": "code",
   "execution_count": 11,
   "id": "b19b43c5-976c-489d-b50f-41ae26fb8575",
   "metadata": {},
   "outputs": [],
   "source": [
    "# Median price by Room Type\n",
    "room_medians = france_df.groupby('Room Type')['Price'].median()\n",
    "\n",
    "# Fill missing prices\n",
    "france_df['Price'] = france_df['Price'].fillna(france_df['Room Type'].map(room_medians))\n"
   ]
  },
  {
   "cell_type": "code",
   "execution_count": 12,
   "id": "57425d2a-8a8f-473a-a489-9d61190a6dad",
   "metadata": {},
   "outputs": [
    {
     "name": "stdout",
     "output_type": "stream",
     "text": [
      "0\n"
     ]
    }
   ],
   "source": [
    "\n",
    "# Now check for NaNs\n",
    "print(france_df['Price'].isnull().sum())"
   ]
  },
  {
   "cell_type": "code",
   "execution_count": 13,
   "id": "be292f33-034d-4005-9407-f97717d61080",
   "metadata": {},
   "outputs": [],
   "source": [
    "# Fill Weekly Price using 10% discount from daily price\n",
    "france_df['Weekly Price'] = france_df['Weekly Price'].fillna(france_df['Price'] * 7 * 0.9)\n",
    "\n",
    "# Fill Monthly Price using 20% discount from daily price\n",
    "france_df['Monthly Price'] = france_df['Monthly Price'].fillna(france_df['Price'] * 30 * 0.8)"
   ]
  },
  {
   "cell_type": "code",
   "execution_count": 14,
   "id": "adf05b23-d20c-4d45-8628-ad5fa053d8dc",
   "metadata": {},
   "outputs": [
    {
     "data": {
      "text/plain": [
       "0"
      ]
     },
     "execution_count": 14,
     "metadata": {},
     "output_type": "execute_result"
    }
   ],
   "source": [
    "france_df['Price'].isnull().sum()"
   ]
  },
  {
   "cell_type": "code",
   "execution_count": 15,
   "id": "c318bdcf-e541-4661-b0e6-5cfb3233de50",
   "metadata": {},
   "outputs": [
    {
     "data": {
      "text/plain": [
       "0"
      ]
     },
     "execution_count": 15,
     "metadata": {},
     "output_type": "execute_result"
    }
   ],
   "source": [
    "france_df['Weekly Price'].isnull().sum()"
   ]
  },
  {
   "cell_type": "code",
   "execution_count": 16,
   "id": "6d9399eb-3e3d-48f9-bcd8-37a9cb13b2bd",
   "metadata": {},
   "outputs": [
    {
     "data": {
      "text/plain": [
       "0"
      ]
     },
     "execution_count": 16,
     "metadata": {},
     "output_type": "execute_result"
    }
   ],
   "source": [
    "france_df['Monthly Price'].isnull().sum()"
   ]
  },
  {
   "cell_type": "code",
   "execution_count": 17,
   "id": "e9e7257c-e95b-4a2b-b13e-e125dea17b6d",
   "metadata": {},
   "outputs": [
    {
     "data": {
      "text/html": [
       "<div>\n",
       "<style scoped>\n",
       "    .dataframe tbody tr th:only-of-type {\n",
       "        vertical-align: middle;\n",
       "    }\n",
       "\n",
       "    .dataframe tbody tr th {\n",
       "        vertical-align: top;\n",
       "    }\n",
       "\n",
       "    .dataframe thead th {\n",
       "        text-align: right;\n",
       "    }\n",
       "</style>\n",
       "<table border=\"1\" class=\"dataframe\">\n",
       "  <thead>\n",
       "    <tr style=\"text-align: right;\">\n",
       "      <th></th>\n",
       "      <th>ID</th>\n",
       "      <th>Host ID</th>\n",
       "      <th>Host Name</th>\n",
       "      <th>Host Since</th>\n",
       "      <th>Host Response Rate</th>\n",
       "      <th>Host Listings Count</th>\n",
       "      <th>Host Total Listings Count</th>\n",
       "      <th>City</th>\n",
       "      <th>State</th>\n",
       "      <th>Zipcode</th>\n",
       "      <th>...</th>\n",
       "      <th>Security Deposit</th>\n",
       "      <th>Cleaning Fee</th>\n",
       "      <th>Guests Included</th>\n",
       "      <th>Extra People</th>\n",
       "      <th>Minimum Nights</th>\n",
       "      <th>Maximum Nights</th>\n",
       "      <th>Number of Reviews</th>\n",
       "      <th>Review Scores Rating</th>\n",
       "      <th>Cancellation Policy</th>\n",
       "      <th>Reviews per Month</th>\n",
       "    </tr>\n",
       "  </thead>\n",
       "  <tbody>\n",
       "    <tr>\n",
       "      <th>56559</th>\n",
       "      <td>9173969</td>\n",
       "      <td>47740911</td>\n",
       "      <td>Host</td>\n",
       "      <td>42306.0</td>\n",
       "      <td>NaN</td>\n",
       "      <td>1.0</td>\n",
       "      <td>1.0</td>\n",
       "      <td>Paris</td>\n",
       "      <td>Île-de-France</td>\n",
       "      <td>75007</td>\n",
       "      <td>...</td>\n",
       "      <td>NaN</td>\n",
       "      <td>NaN</td>\n",
       "      <td>1</td>\n",
       "      <td>0</td>\n",
       "      <td>1</td>\n",
       "      <td>1125</td>\n",
       "      <td>0</td>\n",
       "      <td>NaN</td>\n",
       "      <td>flexible</td>\n",
       "      <td>NaN</td>\n",
       "    </tr>\n",
       "  </tbody>\n",
       "</table>\n",
       "<p>1 rows × 32 columns</p>\n",
       "</div>"
      ],
      "text/plain": [
       "            ID   Host ID Host Name  Host Since  Host Response Rate  \\\n",
       "56559  9173969  47740911      Host     42306.0                 NaN   \n",
       "\n",
       "       Host Listings Count  Host Total Listings Count   City          State  \\\n",
       "56559                  1.0                        1.0  Paris  Île-de-France   \n",
       "\n",
       "      Zipcode  ... Security Deposit Cleaning Fee Guests Included  \\\n",
       "56559   75007  ...              NaN          NaN               1   \n",
       "\n",
       "       Extra People  Minimum Nights  Maximum Nights  Number of Reviews  \\\n",
       "56559             0               1            1125                  0   \n",
       "\n",
       "      Review Scores Rating Cancellation Policy  Reviews per Month  \n",
       "56559                  NaN            flexible                NaN  \n",
       "\n",
       "[1 rows x 32 columns]"
      ]
     },
     "execution_count": 17,
     "metadata": {},
     "output_type": "execute_result"
    }
   ],
   "source": [
    "france_df[france_df['Price']==0]"
   ]
  },
  {
   "cell_type": "code",
   "execution_count": 18,
   "id": "3042ac7c-593e-4f21-bf45-844e6293c463",
   "metadata": {},
   "outputs": [],
   "source": [
    "# Host Name - misisng values rows are dropped - as those rows (Host Since/Host Listing Count/ Host Total Listings Count) had many values missing -\n",
    "france_df = france_df[france_df['Host Name'].notna() & (france_df['Host Name'].str.strip() != '')]\n"
   ]
  },
  {
   "cell_type": "code",
   "execution_count": 19,
   "id": "4429f300-685b-448d-b7e0-1641584f6e1b",
   "metadata": {},
   "outputs": [],
   "source": [
    "# regular expression\n",
    "import re\n",
    "\n",
    "def keep_letters_and_accents(text):\n",
    "    text = str(text)\n",
    "    text = re.sub(r'\\(.*?\\)', '', text)                # Remove text in parentheses\n",
    "    text = re.sub(r'[^A-Za-zÀ-ÿ\\s]', '', text)         # Keep only A–Z, a–z, accented letters, and spaces\n",
    "    return text.strip()\n",
    "\n",
    "france_df['Host Name'] = france_df['Host Name'].apply(keep_letters_and_accents)\n"
   ]
  },
  {
   "cell_type": "code",
   "execution_count": 20,
   "id": "3a786fb2-7636-42db-9dda-135164ea41c1",
   "metadata": {},
   "outputs": [],
   "source": [
    "\n",
    "france_df['Host Name'] = france_df['Host Name'].replace(\"\",\"Unknown\")\n",
    "france_df['Host Name'] = france_df['Host Name'].replace(\"HIDDENHIDDEN\",\"Unknown\")"
   ]
  },
  {
   "cell_type": "code",
   "execution_count": 21,
   "id": "85f389a6-b02f-489f-b4c3-59d3b8ae3f6a",
   "metadata": {},
   "outputs": [],
   "source": [
    "france_df['Host Since'] = pd.to_numeric(france_df['Host Since'], errors='coerce')\n",
    "\n",
    "france_df['Host Since'] = pd.to_datetime('1899-12-30') + pd.to_timedelta(france_df['Host Since'], unit='D')\n",
    "# Current date\n",
    "current_date = pd.to_datetime(\"today\")\n",
    "\n",
    "# Experience in years, rounded to 1 decimal\n",
    "france_df['Host Experience'] = ((current_date - france_df['Host Since']).dt.days / 365).round(1)"
   ]
  },
  {
   "cell_type": "code",
   "execution_count": 22,
   "id": "c446958f-9f94-4d73-9896-750bf4c250b9",
   "metadata": {},
   "outputs": [],
   "source": [
    "france_df['Host Response Rate'] = france_df['Host Response Rate'].interpolate(method='linear').round(1)"
   ]
  },
  {
   "cell_type": "code",
   "execution_count": 23,
   "id": "7dc14aca-cf10-47c7-b9c8-d855521061da",
   "metadata": {},
   "outputs": [],
   "source": [
    "# Filling missing values of Host Response Rate,Security Deposit, Cleaning Fee with '0'\n",
    "zero_rows = ['Security Deposit','Cleaning Fee']\n",
    "for col in france_df:\n",
    "    france_df[col] = france_df[col].fillna(0)\n"
   ]
  },
  {
   "cell_type": "code",
   "execution_count": 24,
   "id": "32235275-b171-4dc5-b4ff-2c4ea64ee891",
   "metadata": {},
   "outputs": [],
   "source": [
    "# Replacing missing values of Zipcode, State, City with \"Unknown\"\n",
    "unknown_rows = ['Zipcode','City','State']\n",
    "for i in unknown_rows:\n",
    "    france_df[i] = france_df[i].fillna(\"Unknown\")\n"
   ]
  },
  {
   "cell_type": "code",
   "execution_count": 25,
   "id": "cb4c9bf2-d9dc-4c38-b5b7-09ff9d5a9c88",
   "metadata": {},
   "outputs": [],
   "source": [
    "# Step 1: Define known state variants and map them to a standard name\n",
    "state_mapping = {\n",
    "    # Ile-de-France variations\n",
    "    'Île-de-France': 'Ile-de-France',\n",
    "    'Ile-de-France': 'Ile-de-France',\n",
    "    'île de France': 'Ile-de-France',\n",
    "    'ile de France': 'Ile-de-France',\n",
    "    'Ile de France': 'Ile-de-France',\n",
    "    'IDF': 'Ile-de-France',\n",
    "    'IdF': 'Ile-de-France',\n",
    "    'Isle-De-France': 'Ile-de-France',\n",
    "    'Isla de Francia': 'Ile-de-France',\n",
    "    'Île de France': 'Ile-de-France',\n",
    "    'Ãle-de-France': 'Ile-de-France',\n",
    "\n",
    "    # Rhône-Alpes variations\n",
    "    'Rhone-Alpes': 'Rhône-Alpes',\n",
    "    'Rhône-Alpes': 'Rhône-Alpes',\n",
    "    'RA': 'Rhône-Alpes',\n",
    "    'Auvergne-Rhône-Alpes': 'Rhône-Alpes',\n",
    "    'Auvergne Rhône-Alpes': 'Rhône-Alpes',\n",
    "\n",
    "    # Other known values\n",
    "    'Burgundy': 'Burgundy',\n",
    "    'Centre': 'Centre',\n",
    "    'Paris': 'Paris',\n",
    "    'paris': 'Paris',\n",
    "    'Montmartre': 'Paris',\n",
    "    'Pigalle': 'Paris',\n",
    "    'le marais': 'Paris',\n",
    "    'Heart of Montparnasse': 'Paris',\n",
    "}\n",
    "\n",
    "# Only update State values for rows where Country == 'France'\n",
    "france_df.loc[france_df['Country'] == 'France', 'State'] = \\\n",
    "    france_df.loc[france_df['Country'] == 'France', 'State'].map(state_mapping).fillna('Unknown')\n"
   ]
  },
  {
   "cell_type": "code",
   "execution_count": 26,
   "id": "decbce7d-936b-482f-9921-411a54ee7c29",
   "metadata": {},
   "outputs": [],
   "source": [
    "# Step 1: Compute medians for each Room Type\n",
    "room_medians = france_df.groupby('Room Type')[['Beds', 'Bathrooms', 'Bedrooms']].median()\n",
    "\n",
    "# Step 2: Map medians back to the original dataframe for each column\n",
    "for col in ['Beds', 'Bathrooms', 'Bedrooms']:\n",
    "    france_df[col] = france_df[col].fillna(france_df['Room Type'].map(room_medians[col]))\n"
   ]
  },
  {
   "cell_type": "code",
   "execution_count": 27,
   "id": "1bfd2e2e-0df8-492a-b288-a0a17d372db4",
   "metadata": {},
   "outputs": [],
   "source": [
    "france_df['Amenities'] =  france_df['Amenities'].replace(0,\" \") "
   ]
  },
  {
   "cell_type": "code",
   "execution_count": 28,
   "id": "c99586d3-39e2-4935-bb5a-f61b5d791a4b",
   "metadata": {},
   "outputs": [],
   "source": [
    "france_df['Amenities'] = france_df['Amenities'].str.replace(\n",
    "    'translation missing: en.hosting_amenity_50', '', regex=False\n",
    ")"
   ]
  },
  {
   "cell_type": "code",
   "execution_count": 29,
   "id": "d0ba831d-e570-4d3c-ad86-567a36c90cd0",
   "metadata": {},
   "outputs": [],
   "source": [
    "france_df['Amenities'] = france_df['Amenities'].str.replace(\n",
    "    'translation missing: en.hosting_amenity_49', '', regex=False\n",
    ")"
   ]
  },
  {
   "cell_type": "code",
   "execution_count": 30,
   "id": "be28f47a-83ec-4ea8-b862-0bebc599cf90",
   "metadata": {},
   "outputs": [
    {
     "data": {
      "text/plain": [
       "442"
      ]
     },
     "execution_count": 30,
     "metadata": {},
     "output_type": "execute_result"
    }
   ],
   "source": [
    "(france_df['Amenities'].str.strip() == '').sum()\n"
   ]
  },
  {
   "cell_type": "code",
   "execution_count": 31,
   "id": "2b2d63cf-15da-4e40-bc57-236c81288205",
   "metadata": {},
   "outputs": [],
   "source": [
    "# Count number of commas and add 1 to get number of amenities\n",
    "france_df['Amenities Count'] = france_df['Amenities'].str.count(',') + 1\n",
    "\n",
    "# If the value was originally empty, set count to 0\n",
    "france_df.loc[france_df['Amenities'].str.strip() == '', 'Amenities Count'] = 0"
   ]
  },
  {
   "cell_type": "code",
   "execution_count": 32,
   "id": "a27b48e2-e964-41a6-94a8-4223f5dba665",
   "metadata": {},
   "outputs": [],
   "source": [
    "france_df['Amenities'] = france_df['Amenities'].replace(\" \",'Unknown')\n"
   ]
  },
  {
   "cell_type": "code",
   "execution_count": 33,
   "id": "182a8a67-3bf4-4b13-be7e-f2091612cc8d",
   "metadata": {},
   "outputs": [],
   "source": [
    "# Step 1: Calculate the mean Review Scores Rating for each Room Type\n",
    "room_type_means = france_df.groupby('Room Type')['Review Scores Rating'].mean()\n",
    "\n",
    "# Step 2: Map those means to the dataframe\n",
    "france_df['RoomType_Mean'] = france_df['Room Type'].map(room_type_means)\n",
    "\n",
    "# Step 3: Fill missing values using the mapped means\n",
    "france_df['Review Scores Rating'].fillna(france_df['RoomType_Mean'], inplace=True)\n",
    "\n",
    "# Optional: Drop the temporary column\n",
    "france_df.drop(columns='RoomType_Mean', inplace=True)"
   ]
  },
  {
   "cell_type": "code",
   "execution_count": 34,
   "id": "0881ad7f-1d32-4cc1-bfa7-8e6412202b86",
   "metadata": {},
   "outputs": [
    {
     "data": {
      "text/plain": [
       "<Axes: xlabel='Reviews per Month'>"
      ]
     },
     "execution_count": 34,
     "metadata": {},
     "output_type": "execute_result"
    },
    {
     "data": {
      "image/png": "[encoded data removed]",
      "text/plain": [
       "<Figure size 640x480 with 1 Axes>"
      ]
     },
     "metadata": {},
     "output_type": "display_data"
    }
   ],
   "source": [
    "import seaborn as sns\n",
    "sns.boxplot(x = 'Reviews per Month',data = france_df)"
   ]
  },
  {
   "cell_type": "code",
   "execution_count": 35,
   "id": "e78de897-6d35-41f1-82bd-fe017bf7c024",
   "metadata": {},
   "outputs": [],
   "source": [
    "# Step 1: Filter data to exclude outliers (0 to 5 only)\n",
    "filtered_df = france_df[(france_df['Reviews per Month'] >= 0) & (france_df['Reviews per Month'] <= 5)]\n",
    "\n",
    "# Step 2: Compute median by room type from filtered data\n",
    "group_means = filtered_df.groupby('Room Type')['Reviews per Month'].mean()\n",
    "\n",
    "# Step 3: Fill missing using mapped medians\n",
    "france_df['Reviews per Month'] = france_df['Reviews per Month'].fillna(france_df['Room Type'].map(group_means))\n"
   ]
  },
  {
   "cell_type": "code",
   "execution_count": 36,
   "id": "0cf73a92-54fc-49af-a3c7-c6b60199343c",
   "metadata": {},
   "outputs": [],
   "source": [
    "france_df.to_csv(\"France_Preprocessed.csv\", index=False, encoding='utf-8-sig')\n"
   ]
  },
  {
   "cell_type": "code",
   "execution_count": 37,
   "id": "544d7fc4-8781-42b9-a6d0-9906be6b89ce",
   "metadata": {},
   "outputs": [
    {
     "data": {
      "text/html": [
       "<div>\n",
       "<style scoped>\n",
       "    .dataframe tbody tr th:only-of-type {\n",
       "        vertical-align: middle;\n",
       "    }\n",
       "\n",
       "    .dataframe tbody tr th {\n",
       "        vertical-align: top;\n",
       "    }\n",
       "\n",
       "    .dataframe thead th {\n",
       "        text-align: right;\n",
       "    }\n",
       "</style>\n",
       "<table border=\"1\" class=\"dataframe\">\n",
       "  <thead>\n",
       "    <tr style=\"text-align: right;\">\n",
       "      <th></th>\n",
       "      <th>ID</th>\n",
       "      <th>Host ID</th>\n",
       "      <th>Host Name</th>\n",
       "      <th>Host Since</th>\n",
       "      <th>Host Response Rate</th>\n",
       "      <th>Host Listings Count</th>\n",
       "      <th>Host Total Listings Count</th>\n",
       "      <th>City</th>\n",
       "      <th>State</th>\n",
       "      <th>Zipcode</th>\n",
       "      <th>...</th>\n",
       "      <th>Guests Included</th>\n",
       "      <th>Extra People</th>\n",
       "      <th>Minimum Nights</th>\n",
       "      <th>Maximum Nights</th>\n",
       "      <th>Number of Reviews</th>\n",
       "      <th>Review Scores Rating</th>\n",
       "      <th>Cancellation Policy</th>\n",
       "      <th>Reviews per Month</th>\n",
       "      <th>Host Experience</th>\n",
       "      <th>Amenities Count</th>\n",
       "    </tr>\n",
       "  </thead>\n",
       "  <tbody>\n",
       "    <tr>\n",
       "      <th>20545</th>\n",
       "      <td>7261147</td>\n",
       "      <td>5241818</td>\n",
       "      <td>Édith</td>\n",
       "      <td>2013-02-26</td>\n",
       "      <td>100.0</td>\n",
       "      <td>1.0</td>\n",
       "      <td>1.0</td>\n",
       "      <td>Paris</td>\n",
       "      <td>Ile-de-France</td>\n",
       "      <td>75011</td>\n",
       "      <td>...</td>\n",
       "      <td>1</td>\n",
       "      <td>0</td>\n",
       "      <td>2</td>\n",
       "      <td>1125</td>\n",
       "      <td>2</td>\n",
       "      <td>100.0</td>\n",
       "      <td>flexible</td>\n",
       "      <td>0.12</td>\n",
       "      <td>12.4</td>\n",
       "      <td>6</td>\n",
       "    </tr>\n",
       "  </tbody>\n",
       "</table>\n",
       "<p>1 rows × 34 columns</p>\n",
       "</div>"
      ],
      "text/plain": [
       "            ID  Host ID Host Name Host Since  Host Response Rate  \\\n",
       "20545  7261147  5241818     Édith 2013-02-26               100.0   \n",
       "\n",
       "       Host Listings Count  Host Total Listings Count   City          State  \\\n",
       "20545                  1.0                        1.0  Paris  Ile-de-France   \n",
       "\n",
       "      Zipcode  ... Guests Included Extra People Minimum Nights  \\\n",
       "20545   75011  ...               1            0              2   \n",
       "\n",
       "       Maximum Nights  Number of Reviews  Review Scores Rating  \\\n",
       "20545            1125                  2                 100.0   \n",
       "\n",
       "       Cancellation Policy Reviews per Month Host Experience  Amenities Count  \n",
       "20545             flexible              0.12            12.4                6  \n",
       "\n",
       "[1 rows x 34 columns]"
      ]
     },
     "execution_count": 37,
     "metadata": {},
     "output_type": "execute_result"
    }
   ],
   "source": [
    "france_df[france_df['Host ID']==5241818]"
   ]
  },
  {
   "cell_type": "code",
   "execution_count": 38,
   "id": "c4332ed9-e9db-4048-b0c4-3d77e4d9d3d4",
   "metadata": {},
   "outputs": [],
   "source": [
    "germany_df = pd.read_csv(r\"Germany_Preprocessed.csv\")"
   ]
  },
  {
   "cell_type": "code",
   "execution_count": 39,
   "id": "a6849ed4-e488-40c7-9c35-8da80d721a29",
   "metadata": {},
   "outputs": [
    {
     "data": {
      "text/plain": [
       "Index(['ID', 'Host ID', 'Host Name', 'Host Since', 'Host Response Rate',\n",
       "       'Host Listings Count', 'Host Total Listings Count', 'City', 'State',\n",
       "       'Zipcode', 'Country', 'Property Type', 'Room Type', 'Accommodates',\n",
       "       'Bathrooms', 'Bedrooms', 'Beds', 'Bed Type', 'Amenities', 'Price',\n",
       "       'Weekly Price', 'Monthly Price', 'Security Deposit', 'Cleaning Fee',\n",
       "       'Guests Included', 'Extra People', 'Minimum Nights', 'Maximum Nights',\n",
       "       'Number of Reviews', 'Review Scores Rating', 'Cancellation Policy',\n",
       "       'Reviews per Month', 'Host Experience', 'Amenities Count'],\n",
       "      dtype='object')"
      ]
     },
     "execution_count": 39,
     "metadata": {},
     "output_type": "execute_result"
    }
   ],
   "source": [
    "common_cols = france_df.columns.intersection(germany_df.columns)\n",
    "common_cols"
   ]
  },
  {
   "cell_type": "code",
   "execution_count": 40,
   "id": "a957e3a0-1f02-4fa8-a66f-822ba00b8893",
   "metadata": {},
   "outputs": [
    {
     "data": {
      "text/plain": [
       "(57155, 34)"
      ]
     },
     "execution_count": 40,
     "metadata": {},
     "output_type": "execute_result"
    }
   ],
   "source": [
    "combined_df = pd.concat([france_df[common_cols],germany_df[common_cols]],ignore_index = True,axis = 0)\n",
    "combined_df.shape"
   ]
  },
  {
   "cell_type": "markdown",
   "id": "8b342b30-41a0-4900-a409-a165751857aa",
   "metadata": {},
   "source": [
    "combined_df.to_csv(\"AirBNB_Dataset_final.csv\",index = False,encoding='utf-8-sig')"
   ]
  },
  {
   "cell_type": "code",
   "execution_count": 41,
   "id": "d1e4cf31-7d8b-4a27-b6d1-c46264ed3fd4",
   "metadata": {},
   "outputs": [],
   "source": [
    "#france_df.to_csv(\"France_Preprocessed.csv\", index=False, encoding='utf-8-sig')\n"
   ]
  },
  {
   "cell_type": "code",
   "execution_count": 42,
   "id": "c09f8e6a-9940-4b91-b100-b7d9d8143515",
   "metadata": {},
   "outputs": [
    {
     "data": {
      "text/plain": [
       "Index(['ID', 'Host ID', 'Host Name', 'Host Since', 'Host Response Rate',\n",
       "       'Host Listings Count', 'Host Total Listings Count', 'City', 'State',\n",
       "       'Zipcode', 'Country', 'Property Type', 'Room Type', 'Accommodates',\n",
       "       'Bathrooms', 'Bedrooms', 'Beds', 'Bed Type', 'Amenities', 'Price',\n",
       "       'Weekly Price', 'Monthly Price', 'Security Deposit', 'Cleaning Fee',\n",
       "       'Guests Included', 'Extra People', 'Minimum Nights', 'Maximum Nights',\n",
       "       'Number of Reviews', 'Review Scores Rating', 'Cancellation Policy',\n",
       "       'Reviews per Month', 'Host Experience', 'Amenities Count'],\n",
       "      dtype='object')"
      ]
     },
     "execution_count": 42,
     "metadata": {},
     "output_type": "execute_result"
    }
   ],
   "source": [
    "combined_df.columns"
   ]
  },
  {
   "cell_type": "code",
   "execution_count": 43,
   "id": "7adf284b-9efc-45ec-b79a-f5c48a73162a",
   "metadata": {},
   "outputs": [],
   "source": [
    "combined_df['Amenities'] = combined_df['Amenities'].str.upper()"
   ]
  },
  {
   "cell_type": "code",
   "execution_count": 44,
   "id": "1a77caa5-7fc7-4548-ad93-4b970c30830d",
   "metadata": {},
   "outputs": [],
   "source": [
    "# Step 1: Convert the string values into individual columns\n",
    "amenities_dummies = combined_df['Amenities'].str.get_dummies(sep=',')\n",
    "\n",
    "# Step 2: Remove leading/trailing spaces in column names\n",
    "amenities_dummies.columns = amenities_dummies.columns.str.strip()\n",
    "\n",
    "# Step 3: Convert 1/0 to True/False if preferred\n",
    "amenities_dummies = amenities_dummies.astype(bool)\n",
    "\n",
    "# Step 4: Join back to the original DataFrame (optional)\n",
    "combined_df = combined_df.join(amenities_dummies)\n"
   ]
  },
  {
   "cell_type": "code",
   "execution_count": 45,
   "id": "bb65195b-8e3e-4b21-a793-86e5624ae194",
   "metadata": {},
   "outputs": [],
   "source": [
    "# 1. INTERNET\n",
    "combined_df['INTERNET'] = combined_df[['INTERNET', 'WIRELESS INTERNET']].any(axis=1).astype(int)\n",
    "\n",
    "# 2. PETS_FRIENDLY\n",
    "pet_cols = ['PETS ALLOWED', 'DOG(S)', 'CAT(S)', 'OTHER PET(S)', 'PETS LIVE ON THIS PROPERTY']\n",
    "combined_df['PETS_FRIENDLY'] = combined_df[pet_cols].any(axis=1).astype(int)\n",
    "combined_df.drop(columns=pet_cols, inplace=True)\n",
    "\n",
    "# 3. FAMILY_FRIENDLY\n",
    "family_cols = ['FAMILY/KID FRIENDLY', 'CHANGING TABLE', 'CHILDREN’S BOOKS AND TOYS', \n",
    "               'CHILDREN’S DINNERWARE', 'PACK ’N PLAY/TRAVEL CRIB', 'HIGH CHAIR', 'BABY BATH', \n",
    "               'BABY MONITOR', 'TABLE CORNER GUARDS']\n",
    "combined_df['FAMILY_FRIENDLY'] = combined_df[family_cols].any(axis=1).astype(int)\n",
    "combined_df.drop(columns=[col for col in family_cols if col in combined_df.columns], inplace=True)\n",
    "\n",
    "# 4. PARKING_AVAILABLE\n",
    "parking_cols = ['FREE PARKING ON PREMISES', 'FREE PARKING ON STREET', 'PAID PARKING OFF PREMISES']\n",
    "combined_df['PARKING_AVAILABLE'] = combined_df[parking_cols].any(axis=1).astype(int)\n",
    "combined_df.drop(columns=parking_cols, inplace=True)\n",
    "\n",
    "# 5. SECURE_ENTRY\n",
    "secure_entry_cols = ['24-HOUR CHECK-IN', 'SMARTLOCK', 'KEYPAD', 'LOCKBOX', 'DOORMAN', 'DOORMAN ENTRY']\n",
    "combined_df['SECURE_ENTRY'] = combined_df[secure_entry_cols].any(axis=1).astype(int)\n",
    "combined_df.drop(columns=[col for col in secure_entry_cols if col in combined_df.columns], inplace=True)\n",
    "\n",
    "# 6. LAUNDRY_AVAILABLE\n",
    "laundry_cols = ['WASHER', 'DRYER', 'WASHER / DRYER']\n",
    "combined_df['LAUNDRY_AVAILABLE'] = combined_df[laundry_cols].any(axis=1).astype(int)\n",
    "combined_df.drop(columns=[col for col in laundry_cols if col in combined_df.columns], inplace=True)\n",
    "\n",
    "# 7. FIRE_SAFETY_EQUIPPED\n",
    "fire_cols = ['SMOKE DETECTOR', 'CARBON MONOXIDE DETECTOR', 'FIRE EXTINGUISHER', 'FIRST AID KIT']\n",
    "combined_df['FIRE_SAFETY_EQUIPPED'] = combined_df[fire_cols].any(axis=1).astype(int)\n",
    "combined_df.drop(columns=[col for col in fire_cols if col in combined_df.columns], inplace=True)\n",
    "\n",
    "# 8. ACCESSIBLE\n",
    "accessible_cols = ['WHEELCHAIR ACCESSIBLE', 'WIDE DOORWAY', 'WIDE HALLWAY CLEARANCE', \n",
    "                   'WIDE CLEARANCE TO SHOWER AND TOILET', 'WIDE CLEARANCE TO BED']\n",
    "combined_df['ACCESSIBLE'] = combined_df[accessible_cols].any(axis=1).astype(int)\n",
    "combined_df.drop(columns=[col for col in accessible_cols if col in combined_df.columns], inplace=True)\n",
    "\n",
    "# 9. TEMPERATURE_CONTROL\n",
    "temp_cols = ['AIR CONDITIONING', 'HEATING', 'HOT WATER']\n",
    "combined_df['TEMPERATURE_CONTROL'] = combined_df[temp_cols].any(axis=1).astype(int)\n",
    "combined_df.drop(columns=temp_cols, inplace=True)\n",
    "\n",
    "# 10. KITCHEN_AVAILABLE\n",
    "kitchen_cols = ['KITCHEN', 'STOVE', 'OVEN', 'COFFEE MAKER', 'REFRIGERATOR', 'COOKING BASICS', \n",
    "                'DISHES AND SILVERWARE']\n",
    "combined_df['KITCHEN_AVAILABLE'] = combined_df[kitchen_cols].any(axis=1).astype(int)\n",
    "combined_df.drop(columns=[col for col in kitchen_cols if col in combined_df.columns], inplace=True)\n",
    "\n",
    "# 11. TV_AVAILABLE\n",
    "tv_cols = ['TV', 'CABLE TV', 'GAME CONSOLE']\n",
    "combined_df['TV_AVAILABLE'] = combined_df[tv_cols].any(axis=1).astype(int)\n",
    "combined_df.drop(columns=[col for col in tv_cols if col in combined_df.columns], inplace=True)\n",
    "\n"
   ]
  },
  {
   "cell_type": "code",
   "execution_count": 46,
   "id": "2837b4f0-9d0b-4757-8928-204f376e296c",
   "metadata": {},
   "outputs": [
    {
     "data": {
      "text/plain": [
       "Index(['ID', 'Host ID', 'Host Name', 'Host Since', 'Host Response Rate',\n",
       "       'Host Listings Count', 'Host Total Listings Count', 'City', 'State',\n",
       "       'Zipcode', 'Country', 'Property Type', 'Room Type', 'Accommodates',\n",
       "       'Bathrooms', 'Bedrooms', 'Beds', 'Bed Type', 'Amenities', 'Price',\n",
       "       'Weekly Price', 'Monthly Price', 'Security Deposit', 'Cleaning Fee',\n",
       "       'Guests Included', 'Extra People', 'Minimum Nights', 'Maximum Nights',\n",
       "       'Number of Reviews', 'Review Scores Rating', 'Cancellation Policy',\n",
       "       'Reviews per Month', 'Host Experience', 'Amenities Count',\n",
       "       'ACCESSIBLE-HEIGHT BED', 'BABYSITTER RECOMMENDATIONS', 'BATHTUB',\n",
       "       'BED LINENS', 'BREAKFAST', 'BUZZER/WIRELESS INTERCOM', 'CRIB',\n",
       "       'ELEVATOR IN BUILDING', 'ESSENTIALS', 'EXTRA PILLOWS AND BLANKETS',\n",
       "       'FIREPLACE GUARDS', 'GYM', 'HAIR DRYER', 'HANGERS', 'HOT TUB',\n",
       "       'INDOOR FIREPLACE', 'INTERNET', 'IRON', 'LAPTOP FRIENDLY WORKSPACE',\n",
       "       'LOCK ON BEDROOM DOOR', 'LUGGAGE DROPOFF ALLOWED', 'OUTLET COVERS',\n",
       "       'PATH TO ENTRANCE LIT AT NIGHT', 'PATIO OR BALCONY', 'POOL',\n",
       "       'PRIVATE ENTRANCE', 'PRIVATE LIVING ROOM', 'ROOM-DARKENING SHADES',\n",
       "       'SAFETY CARD', 'SELF CHECK-IN', 'SHAMPOO', 'SMOKING ALLOWED',\n",
       "       'STAIR GATES', 'SUITABLE FOR EVENTS', 'UNKNOWN', 'WINDOW GUARDS',\n",
       "       'WIRELESS INTERNET', 'PETS_FRIENDLY', 'FAMILY_FRIENDLY',\n",
       "       'PARKING_AVAILABLE', 'SECURE_ENTRY', 'LAUNDRY_AVAILABLE',\n",
       "       'FIRE_SAFETY_EQUIPPED', 'ACCESSIBLE', 'TEMPERATURE_CONTROL',\n",
       "       'KITCHEN_AVAILABLE', 'TV_AVAILABLE'],\n",
       "      dtype='object')"
      ]
     },
     "execution_count": 46,
     "metadata": {},
     "output_type": "execute_result"
    }
   ],
   "source": [
    "combined_df.columns"
   ]
  },
  {
   "cell_type": "code",
   "execution_count": 47,
   "id": "8da96479-889f-465e-a457-6c8faccb9b8a",
   "metadata": {},
   "outputs": [
    {
     "data": {
      "text/plain": [
       "(57155, 81)"
      ]
     },
     "execution_count": 47,
     "metadata": {},
     "output_type": "execute_result"
    }
   ],
   "source": [
    "combined_df.shape"
   ]
  },
  {
   "cell_type": "code",
   "execution_count": 48,
   "id": "03edc25a-edbe-4196-9621-ca82131be159",
   "metadata": {},
   "outputs": [],
   "source": [
    "combined_df.to_csv('AIRBNB.csv',index = False,encoding='utf-8-sig')"
   ]
  },
  {
   "cell_type": "code",
   "execution_count": null,
   "id": "7c997d83-b308-461a-ae19-a29417c30f07",
   "metadata": {},
   "outputs": [],
   "source": []
  }
 ],
 "metadata": {
  "kernelspec": {
   "display_name": "Python 3 (ipykernel)",
   "language": "python",
   "name": "python3"
  },
  "language_info": {
   "codemirror_mode": {
    "name": "ipython",
    "version": 3
   },
   "file_extension": ".py",
   "mimetype": "text/x-python",
   "name": "python",
   "nbconvert_exporter": "python",
   "pygments_lexer": "ipython3",
   "version": "3.12.7"
  }
 },
 "nbformat": 4,
 "nbformat_minor": 5
}
