{
 "cells": [
  {
   "cell_type": "code",
   "execution_count": 1,
   "id": "cdee9039-bc57-4afa-b660-d3dbdac879e3",
   "metadata": {},
   "outputs": [],
   "source": [
    "import pandas as pd \n",
    "import numpy as np \n",
    "import seaborn as sns\n",
    "\n",
    "import warnings\n",
    "warnings.filterwarnings(\"ignore\")"
   ]
  },
  {
   "cell_type": "code",
   "execution_count": 2,
   "id": "054b8933-7e2d-49fd-8ff5-118e660c96d9",
   "metadata": {},
   "outputs": [
    {
     "data": {
      "text/html": [
       "<div>\n",
       "<style scoped>\n",
       "    .dataframe tbody tr th:only-of-type {\n",
       "        vertical-align: middle;\n",
       "    }\n",
       "\n",
       "    .dataframe tbody tr th {\n",
       "        vertical-align: top;\n",
       "    }\n",
       "\n",
       "    .dataframe thead th {\n",
       "        text-align: right;\n",
       "    }\n",
       "</style>\n",
       "<table border=\"1\" class=\"dataframe\">\n",
       "  <thead>\n",
       "    <tr style=\"text-align: right;\">\n",
       "      <th></th>\n",
       "      <th>ID</th>\n",
       "      <th>Host ID</th>\n",
       "      <th>Host Name</th>\n",
       "      <th>Host Since</th>\n",
       "      <th>Host Response Rate</th>\n",
       "      <th>Host Listings Count</th>\n",
       "      <th>Host Total Listings Count</th>\n",
       "      <th>City</th>\n",
       "      <th>State</th>\n",
       "      <th>Zipcode</th>\n",
       "      <th>...</th>\n",
       "      <th>Security Deposit</th>\n",
       "      <th>Cleaning Fee</th>\n",
       "      <th>Guests Included</th>\n",
       "      <th>Extra People</th>\n",
       "      <th>Minimum Nights</th>\n",
       "      <th>Maximum Nights</th>\n",
       "      <th>Number of Reviews</th>\n",
       "      <th>Review Scores Rating</th>\n",
       "      <th>Cancellation Policy</th>\n",
       "      <th>Reviews per Month</th>\n",
       "    </tr>\n",
       "  </thead>\n",
       "  <tbody>\n",
       "    <tr>\n",
       "      <th>0</th>\n",
       "      <td>12977541</td>\n",
       "      <td>1111545</td>\n",
       "      <td>Maike</td>\n",
       "      <td>5/9/2011</td>\n",
       "      <td>100.0</td>\n",
       "      <td>2</td>\n",
       "      <td>2</td>\n",
       "      <td>Berlin</td>\n",
       "      <td>Berlin</td>\n",
       "      <td>13355.0</td>\n",
       "      <td>...</td>\n",
       "      <td>NaN</td>\n",
       "      <td>8.0</td>\n",
       "      <td>1</td>\n",
       "      <td>18</td>\n",
       "      <td>2</td>\n",
       "      <td>7</td>\n",
       "      <td>45</td>\n",
       "      <td>90.0</td>\n",
       "      <td>strict</td>\n",
       "      <td>4.02</td>\n",
       "    </tr>\n",
       "    <tr>\n",
       "      <th>1</th>\n",
       "      <td>13394132</td>\n",
       "      <td>76188462</td>\n",
       "      <td>Guido</td>\n",
       "      <td>6/6/2016</td>\n",
       "      <td>100.0</td>\n",
       "      <td>1</td>\n",
       "      <td>1</td>\n",
       "      <td>Berlin</td>\n",
       "      <td>Berlin</td>\n",
       "      <td>12247.0</td>\n",
       "      <td>...</td>\n",
       "      <td>200.0</td>\n",
       "      <td>29.0</td>\n",
       "      <td>2</td>\n",
       "      <td>9</td>\n",
       "      <td>1</td>\n",
       "      <td>60</td>\n",
       "      <td>7</td>\n",
       "      <td>91.0</td>\n",
       "      <td>moderate</td>\n",
       "      <td>0.89</td>\n",
       "    </tr>\n",
       "    <tr>\n",
       "      <th>2</th>\n",
       "      <td>13983810</td>\n",
       "      <td>7987224</td>\n",
       "      <td>Melina</td>\n",
       "      <td>6/8/2013</td>\n",
       "      <td>NaN</td>\n",
       "      <td>1</td>\n",
       "      <td>1</td>\n",
       "      <td>Berlin</td>\n",
       "      <td>Berlin</td>\n",
       "      <td>10827.0</td>\n",
       "      <td>...</td>\n",
       "      <td>200.0</td>\n",
       "      <td>5.0</td>\n",
       "      <td>2</td>\n",
       "      <td>15</td>\n",
       "      <td>2</td>\n",
       "      <td>30</td>\n",
       "      <td>2</td>\n",
       "      <td>100.0</td>\n",
       "      <td>flexible</td>\n",
       "      <td>0.24</td>\n",
       "    </tr>\n",
       "    <tr>\n",
       "      <th>3</th>\n",
       "      <td>14893613</td>\n",
       "      <td>81474370</td>\n",
       "      <td>Anne-Liesa</td>\n",
       "      <td>3/7/2016</td>\n",
       "      <td>100.0</td>\n",
       "      <td>1</td>\n",
       "      <td>1</td>\n",
       "      <td>Berlin</td>\n",
       "      <td>Berlin</td>\n",
       "      <td>10585.0</td>\n",
       "      <td>...</td>\n",
       "      <td>NaN</td>\n",
       "      <td>5.0</td>\n",
       "      <td>1</td>\n",
       "      <td>25</td>\n",
       "      <td>1</td>\n",
       "      <td>8</td>\n",
       "      <td>12</td>\n",
       "      <td>100.0</td>\n",
       "      <td>moderate</td>\n",
       "      <td>1.65</td>\n",
       "    </tr>\n",
       "    <tr>\n",
       "      <th>4</th>\n",
       "      <td>12015578</td>\n",
       "      <td>21252930</td>\n",
       "      <td>Asta</td>\n",
       "      <td>12/9/2014</td>\n",
       "      <td>NaN</td>\n",
       "      <td>1</td>\n",
       "      <td>1</td>\n",
       "      <td>Berlin</td>\n",
       "      <td>Berlin</td>\n",
       "      <td>10437.0</td>\n",
       "      <td>...</td>\n",
       "      <td>100.0</td>\n",
       "      <td>12.0</td>\n",
       "      <td>2</td>\n",
       "      <td>0</td>\n",
       "      <td>3</td>\n",
       "      <td>1125</td>\n",
       "      <td>1</td>\n",
       "      <td>100.0</td>\n",
       "      <td>flexible</td>\n",
       "      <td>0.10</td>\n",
       "    </tr>\n",
       "    <tr>\n",
       "      <th>...</th>\n",
       "      <td>...</td>\n",
       "      <td>...</td>\n",
       "      <td>...</td>\n",
       "      <td>...</td>\n",
       "      <td>...</td>\n",
       "      <td>...</td>\n",
       "      <td>...</td>\n",
       "      <td>...</td>\n",
       "      <td>...</td>\n",
       "      <td>...</td>\n",
       "      <td>...</td>\n",
       "      <td>...</td>\n",
       "      <td>...</td>\n",
       "      <td>...</td>\n",
       "      <td>...</td>\n",
       "      <td>...</td>\n",
       "      <td>...</td>\n",
       "      <td>...</td>\n",
       "      <td>...</td>\n",
       "      <td>...</td>\n",
       "      <td>...</td>\n",
       "    </tr>\n",
       "    <tr>\n",
       "      <th>599</th>\n",
       "      <td>13537098</td>\n",
       "      <td>77859450</td>\n",
       "      <td>Yasemin</td>\n",
       "      <td>15-06-2016</td>\n",
       "      <td>NaN</td>\n",
       "      <td>1</td>\n",
       "      <td>1</td>\n",
       "      <td>Berlin</td>\n",
       "      <td>Berlin</td>\n",
       "      <td>10245.0</td>\n",
       "      <td>...</td>\n",
       "      <td>200.0</td>\n",
       "      <td>NaN</td>\n",
       "      <td>1</td>\n",
       "      <td>0</td>\n",
       "      <td>3</td>\n",
       "      <td>5</td>\n",
       "      <td>0</td>\n",
       "      <td>NaN</td>\n",
       "      <td>flexible</td>\n",
       "      <td>NaN</td>\n",
       "    </tr>\n",
       "    <tr>\n",
       "      <th>600</th>\n",
       "      <td>18064664</td>\n",
       "      <td>14629591</td>\n",
       "      <td>Evelyn</td>\n",
       "      <td>23-04-2014</td>\n",
       "      <td>100.0</td>\n",
       "      <td>1</td>\n",
       "      <td>1</td>\n",
       "      <td>Berlin</td>\n",
       "      <td>Berlin</td>\n",
       "      <td>10247.0</td>\n",
       "      <td>...</td>\n",
       "      <td>NaN</td>\n",
       "      <td>NaN</td>\n",
       "      <td>1</td>\n",
       "      <td>0</td>\n",
       "      <td>1</td>\n",
       "      <td>14</td>\n",
       "      <td>4</td>\n",
       "      <td>100.0</td>\n",
       "      <td>flexible</td>\n",
       "      <td>4.00</td>\n",
       "    </tr>\n",
       "    <tr>\n",
       "      <th>601</th>\n",
       "      <td>13457300</td>\n",
       "      <td>76897030</td>\n",
       "      <td>Ayse</td>\n",
       "      <td>10/6/2016</td>\n",
       "      <td>100.0</td>\n",
       "      <td>2</td>\n",
       "      <td>2</td>\n",
       "      <td>Berlin</td>\n",
       "      <td>Berlin</td>\n",
       "      <td>10179.0</td>\n",
       "      <td>...</td>\n",
       "      <td>500.0</td>\n",
       "      <td>NaN</td>\n",
       "      <td>2</td>\n",
       "      <td>0</td>\n",
       "      <td>60</td>\n",
       "      <td>1125</td>\n",
       "      <td>22</td>\n",
       "      <td>95.0</td>\n",
       "      <td>moderate</td>\n",
       "      <td>2.02</td>\n",
       "    </tr>\n",
       "    <tr>\n",
       "      <th>602</th>\n",
       "      <td>7535101</td>\n",
       "      <td>1148921</td>\n",
       "      <td>Tom</td>\n",
       "      <td>12/9/2011</td>\n",
       "      <td>100.0</td>\n",
       "      <td>3</td>\n",
       "      <td>3</td>\n",
       "      <td>Berlin</td>\n",
       "      <td>Berlin</td>\n",
       "      <td>10115.0</td>\n",
       "      <td>...</td>\n",
       "      <td>250.0</td>\n",
       "      <td>49.0</td>\n",
       "      <td>1</td>\n",
       "      <td>15</td>\n",
       "      <td>3</td>\n",
       "      <td>90</td>\n",
       "      <td>27</td>\n",
       "      <td>87.0</td>\n",
       "      <td>moderate</td>\n",
       "      <td>1.33</td>\n",
       "    </tr>\n",
       "    <tr>\n",
       "      <th>603</th>\n",
       "      <td>14355153</td>\n",
       "      <td>87993681</td>\n",
       "      <td>Annasophiapaus@(SENSITIVE CONTENTS HIDDEN)</td>\n",
       "      <td>4/8/2016</td>\n",
       "      <td>0.0</td>\n",
       "      <td>1</td>\n",
       "      <td>1</td>\n",
       "      <td>Berlin</td>\n",
       "      <td>Berlin</td>\n",
       "      <td>10969.0</td>\n",
       "      <td>...</td>\n",
       "      <td>NaN</td>\n",
       "      <td>NaN</td>\n",
       "      <td>1</td>\n",
       "      <td>0</td>\n",
       "      <td>6</td>\n",
       "      <td>20</td>\n",
       "      <td>0</td>\n",
       "      <td>NaN</td>\n",
       "      <td>flexible</td>\n",
       "      <td>NaN</td>\n",
       "    </tr>\n",
       "  </tbody>\n",
       "</table>\n",
       "<p>604 rows × 32 columns</p>\n",
       "</div>"
      ],
      "text/plain": [
       "           ID   Host ID                                   Host Name  \\\n",
       "0    12977541   1111545                                       Maike   \n",
       "1    13394132  76188462                                       Guido   \n",
       "2    13983810   7987224                                      Melina   \n",
       "3    14893613  81474370                                  Anne-Liesa   \n",
       "4    12015578  21252930                                        Asta   \n",
       "..        ...       ...                                         ...   \n",
       "599  13537098  77859450                                     Yasemin   \n",
       "600  18064664  14629591                                      Evelyn   \n",
       "601  13457300  76897030                                        Ayse   \n",
       "602   7535101   1148921                                         Tom   \n",
       "603  14355153  87993681  Annasophiapaus@(SENSITIVE CONTENTS HIDDEN)   \n",
       "\n",
       "     Host Since  Host Response Rate  Host Listings Count  \\\n",
       "0      5/9/2011               100.0                    2   \n",
       "1      6/6/2016               100.0                    1   \n",
       "2      6/8/2013                 NaN                    1   \n",
       "3      3/7/2016               100.0                    1   \n",
       "4     12/9/2014                 NaN                    1   \n",
       "..          ...                 ...                  ...   \n",
       "599  15-06-2016                 NaN                    1   \n",
       "600  23-04-2014               100.0                    1   \n",
       "601   10/6/2016               100.0                    2   \n",
       "602   12/9/2011               100.0                    3   \n",
       "603    4/8/2016                 0.0                    1   \n",
       "\n",
       "     Host Total Listings Count    City   State  Zipcode  ... Security Deposit  \\\n",
       "0                            2  Berlin  Berlin  13355.0  ...              NaN   \n",
       "1                            1  Berlin  Berlin  12247.0  ...            200.0   \n",
       "2                            1  Berlin  Berlin  10827.0  ...            200.0   \n",
       "3                            1  Berlin  Berlin  10585.0  ...              NaN   \n",
       "4                            1  Berlin  Berlin  10437.0  ...            100.0   \n",
       "..                         ...     ...     ...      ...  ...              ...   \n",
       "599                          1  Berlin  Berlin  10245.0  ...            200.0   \n",
       "600                          1  Berlin  Berlin  10247.0  ...              NaN   \n",
       "601                          2  Berlin  Berlin  10179.0  ...            500.0   \n",
       "602                          3  Berlin  Berlin  10115.0  ...            250.0   \n",
       "603                          1  Berlin  Berlin  10969.0  ...              NaN   \n",
       "\n",
       "    Cleaning Fee Guests Included  Extra People  Minimum Nights  \\\n",
       "0            8.0               1            18               2   \n",
       "1           29.0               2             9               1   \n",
       "2            5.0               2            15               2   \n",
       "3            5.0               1            25               1   \n",
       "4           12.0               2             0               3   \n",
       "..           ...             ...           ...             ...   \n",
       "599          NaN               1             0               3   \n",
       "600          NaN               1             0               1   \n",
       "601          NaN               2             0              60   \n",
       "602         49.0               1            15               3   \n",
       "603          NaN               1             0               6   \n",
       "\n",
       "     Maximum Nights  Number of Reviews Review Scores Rating  \\\n",
       "0                 7                 45                 90.0   \n",
       "1                60                  7                 91.0   \n",
       "2                30                  2                100.0   \n",
       "3                 8                 12                100.0   \n",
       "4              1125                  1                100.0   \n",
       "..              ...                ...                  ...   \n",
       "599               5                  0                  NaN   \n",
       "600              14                  4                100.0   \n",
       "601            1125                 22                 95.0   \n",
       "602              90                 27                 87.0   \n",
       "603              20                  0                  NaN   \n",
       "\n",
       "    Cancellation Policy  Reviews per Month  \n",
       "0                strict               4.02  \n",
       "1              moderate               0.89  \n",
       "2              flexible               0.24  \n",
       "3              moderate               1.65  \n",
       "4              flexible               0.10  \n",
       "..                  ...                ...  \n",
       "599            flexible                NaN  \n",
       "600            flexible               4.00  \n",
       "601            moderate               2.02  \n",
       "602            moderate               1.33  \n",
       "603            flexible                NaN  \n",
       "\n",
       "[604 rows x 32 columns]"
      ]
     },
     "execution_count": 2,
     "metadata": {},
     "output_type": "execute_result"
    }
   ],
   "source": [
    "germany_df = pd.read_csv(r\"D:\\NIIT\\Course_10_Capstone Project\\Data_Files\\Germany.csv\")\n",
    "germany_df"
   ]
  },
  {
   "cell_type": "code",
   "execution_count": 3,
   "id": "5c1f1e40-8c32-4915-9f96-6dd659ffc05c",
   "metadata": {},
   "outputs": [
    {
     "data": {
      "text/plain": [
       "(604, 32)"
      ]
     },
     "execution_count": 3,
     "metadata": {},
     "output_type": "execute_result"
    }
   ],
   "source": [
    "germany_df.shape"
   ]
  },
  {
   "cell_type": "code",
   "execution_count": 4,
   "id": "a106ae36-856c-44f1-baf8-903fc8a9d93c",
   "metadata": {},
   "outputs": [
    {
     "data": {
      "text/plain": [
       "ID                             0\n",
       "Host ID                        0\n",
       "Host Name                      0\n",
       "Host Since                     0\n",
       "Host Response Rate           212\n",
       "Host Listings Count            0\n",
       "Host Total Listings Count      0\n",
       "City                           0\n",
       "State                          0\n",
       "Zipcode                       25\n",
       "Country                        0\n",
       "Property Type                  0\n",
       "Room Type                      0\n",
       "Accommodates                   0\n",
       "Bathrooms                      0\n",
       "Bedrooms                       2\n",
       "Beds                           1\n",
       "Bed Type                       0\n",
       "Amenities                      5\n",
       "Price                          0\n",
       "Weekly Price                 488\n",
       "Monthly Price                518\n",
       "Security Deposit             409\n",
       "Cleaning Fee                 262\n",
       "Guests Included                0\n",
       "Extra People                   0\n",
       "Minimum Nights                 0\n",
       "Maximum Nights                 0\n",
       "Number of Reviews              0\n",
       "Review Scores Rating         175\n",
       "Cancellation Policy            0\n",
       "Reviews per Month            161\n",
       "dtype: int64"
      ]
     },
     "execution_count": 4,
     "metadata": {},
     "output_type": "execute_result"
    }
   ],
   "source": [
    "germany_df.isnull().sum()"
   ]
  },
  {
   "cell_type": "code",
   "execution_count": 5,
   "id": "fdc14b16-aaa9-44c8-b067-376442bdc98f",
   "metadata": {},
   "outputs": [
    {
     "name": "stdout",
     "output_type": "stream",
     "text": [
      "<class 'pandas.core.frame.DataFrame'>\n",
      "RangeIndex: 604 entries, 0 to 603\n",
      "Data columns (total 32 columns):\n",
      " #   Column                     Non-Null Count  Dtype  \n",
      "---  ------                     --------------  -----  \n",
      " 0   ID                         604 non-null    int64  \n",
      " 1   Host ID                    604 non-null    int64  \n",
      " 2   Host Name                  604 non-null    object \n",
      " 3   Host Since                 604 non-null    object \n",
      " 4   Host Response Rate         392 non-null    float64\n",
      " 5   Host Listings Count        604 non-null    int64  \n",
      " 6   Host Total Listings Count  604 non-null    int64  \n",
      " 7   City                       604 non-null    object \n",
      " 8   State                      604 non-null    object \n",
      " 9   Zipcode                    579 non-null    float64\n",
      " 10  Country                    604 non-null    object \n",
      " 11  Property Type              604 non-null    object \n",
      " 12  Room Type                  604 non-null    object \n",
      " 13  Accommodates               604 non-null    int64  \n",
      " 14  Bathrooms                  604 non-null    float64\n",
      " 15  Bedrooms                   602 non-null    float64\n",
      " 16  Beds                       603 non-null    float64\n",
      " 17  Bed Type                   604 non-null    object \n",
      " 18  Amenities                  599 non-null    object \n",
      " 19  Price                      604 non-null    int64  \n",
      " 20  Weekly Price               116 non-null    float64\n",
      " 21  Monthly Price              86 non-null     float64\n",
      " 22  Security Deposit           195 non-null    float64\n",
      " 23  Cleaning Fee               342 non-null    float64\n",
      " 24  Guests Included            604 non-null    int64  \n",
      " 25  Extra People               604 non-null    int64  \n",
      " 26  Minimum Nights             604 non-null    int64  \n",
      " 27  Maximum Nights             604 non-null    int64  \n",
      " 28  Number of Reviews          604 non-null    int64  \n",
      " 29  Review Scores Rating       429 non-null    float64\n",
      " 30  Cancellation Policy        604 non-null    object \n",
      " 31  Reviews per Month          443 non-null    float64\n",
      "dtypes: float64(11), int64(11), object(10)\n",
      "memory usage: 151.1+ KB\n"
     ]
    }
   ],
   "source": [
    "germany_df.info()"
   ]
  },
  {
   "cell_type": "code",
   "execution_count": 6,
   "id": "3bb1b622-e605-46d3-afd3-af31f8ee8896",
   "metadata": {},
   "outputs": [
    {
     "data": {
      "text/plain": [
       "Index(['ID', 'Host ID', 'Host Name', 'Host Since', 'Host Response Rate',\n",
       "       'Host Listings Count', 'Host Total Listings Count', 'City', 'State',\n",
       "       'Zipcode', 'Country', 'Property Type', 'Room Type', 'Accommodates',\n",
       "       'Bathrooms', 'Bedrooms', 'Beds', 'Bed Type', 'Amenities', 'Price',\n",
       "       'Weekly Price', 'Monthly Price', 'Security Deposit', 'Cleaning Fee',\n",
       "       'Guests Included', 'Extra People', 'Minimum Nights', 'Maximum Nights',\n",
       "       'Number of Reviews', 'Review Scores Rating', 'Cancellation Policy',\n",
       "       'Reviews per Month'],\n",
       "      dtype='object')"
      ]
     },
     "execution_count": 6,
     "metadata": {},
     "output_type": "execute_result"
    }
   ],
   "source": [
    "germany_df.columns"
   ]
  },
  {
   "cell_type": "code",
   "execution_count": 7,
   "id": "54d40b44-9f60-4b38-9365-2ee67f496cfa",
   "metadata": {},
   "outputs": [],
   "source": [
    "import re\n",
    "import unicodedata\n",
    "\n",
    "def keep_letters_and_accents(text):\n",
    "    text = str(text)\n",
    "    text = re.sub(r'\\(.*?\\)', '', text)  # Remove text in parentheses\n",
    "    text = unicodedata.normalize('NFKD', text)  # Normalize Unicode to standard form\n",
    "    text = re.sub(r'[^A-Za-zÀ-ÿ\\s]', '', text)  # Keep only letters with accents and spaces\n",
    "    return text.strip()\n",
    "\n",
    "germany_df['Host Name'] = germany_df['Host Name'].apply(keep_letters_and_accents)"
   ]
  },
  {
   "cell_type": "code",
   "execution_count": 8,
   "id": "a8743716-5e4c-47ae-b230-ab8868697f11",
   "metadata": {},
   "outputs": [],
   "source": [
    "germany_df['Host Name'] = germany_df['Host Name'].replace(\"(EMAIL HIDDEN)\",\"Unknown\")\n",
    "germany_df['Host Name'] = germany_df['Host Name'].replace(\"\",\"Unknown\")"
   ]
  },
  {
   "cell_type": "code",
   "execution_count": 9,
   "id": "bd17d13b-b2fb-4912-af84-617decf56b1a",
   "metadata": {},
   "outputs": [],
   "source": [
    "from datetime import datetime\n",
    "\n",
    "# Step 1: Convert to string and extract year part safely\n",
    "germany_df['Host Year'] = germany_df['Host Since'].astype(str).str.extract(r'(\\d{4})')\n",
    "\n",
    "# Step 2: Convert year to numeric\n",
    "germany_df['Host Year'] = pd.to_numeric(germany_df['Host Year'], errors='coerce')\n",
    "\n",
    "# Step 3: Calculate experience from current year\n",
    "current_year = datetime.now().year\n",
    "germany_df['Host Experience'] = (current_year - germany_df['Host Year']).astype('float')\n",
    "\n",
    "germany_df.drop(columns=['Host Year'], inplace=True)"
   ]
  },
  {
   "cell_type": "code",
   "execution_count": 10,
   "id": "88b7d0c4-8199-41cd-a810-ef0e22da5359",
   "metadata": {},
   "outputs": [],
   "source": [
    "# Using Interplote \n",
    "germany_df['Host Response Rate'] = germany_df['Host Response Rate'].interpolate(method='linear').round()"
   ]
  },
  {
   "cell_type": "code",
   "execution_count": 11,
   "id": "dbb2143c-c064-4461-b795-7f1d42d3a647",
   "metadata": {},
   "outputs": [],
   "source": [
    "germany_df[\"Zipcode\"] = germany_df[\"Zipcode\"].fillna(\"Unknown\")"
   ]
  },
  {
   "cell_type": "code",
   "execution_count": 12,
   "id": "3548fa8b-a82c-4308-adb6-1de289ac4a7a",
   "metadata": {},
   "outputs": [],
   "source": [
    "# Step 1: Compute medians for each Room Type\n",
    "room_medians = germany_df.groupby('Room Type')[['Beds', 'Bathrooms', 'Bedrooms']].median()\n",
    "\n",
    "# Step 2: Map medians back to the original dataframe for each column\n",
    "for col in ['Beds', 'Bathrooms', 'Bedrooms']:\n",
    "    germany_df[col] = germany_df[col].fillna(germany_df['Room Type'].map(room_medians[col]))"
   ]
  },
  {
   "cell_type": "code",
   "execution_count": 13,
   "id": "2e8afd14-7572-4284-846e-1387a5a48e4f",
   "metadata": {},
   "outputs": [
    {
     "data": {
      "text/plain": [
       "5"
      ]
     },
     "execution_count": 13,
     "metadata": {},
     "output_type": "execute_result"
    }
   ],
   "source": [
    "germany_df[\"Amenities\"].isnull().sum()"
   ]
  },
  {
   "cell_type": "code",
   "execution_count": 14,
   "id": "5999c0f5-6172-4a61-9728-84d454f8e157",
   "metadata": {},
   "outputs": [],
   "source": [
    "germany_df['Amenities'] = germany_df['Amenities'].str.replace(\n",
    "    'translation missing: en.hosting_amenity_50', '', regex=False)"
   ]
  },
  {
   "cell_type": "code",
   "execution_count": 15,
   "id": "d668d772-df6a-4cc4-ab9f-20ff32e0dd8b",
   "metadata": {},
   "outputs": [],
   "source": [
    "germany_df['Amenities'] = germany_df['Amenities'].str.replace(\n",
    "    'translation missing: en.hosting_amenity_49', '', regex=False)"
   ]
  },
  {
   "cell_type": "code",
   "execution_count": 16,
   "id": "c66bf4e3-c451-437e-b62b-858368903788",
   "metadata": {},
   "outputs": [],
   "source": [
    "# Count number of commas and add 1 to get number of amenities\n",
    "germany_df['Amenities Count'] = germany_df['Amenities'].str.count(',') + 1\n",
    "\n",
    "# If the value was originally empty, set count to 0\n",
    "germany_df.loc[germany_df['Amenities'].str.strip() == '', 'Amenities Count'] = 0"
   ]
  },
  {
   "cell_type": "code",
   "execution_count": 17,
   "id": "dfd070ff-e9e9-438e-b7e9-5582a39dfcba",
   "metadata": {},
   "outputs": [],
   "source": [
    "germany_df['wifi'] = germany_df['Amenities'].str.contains('Wireless Internet', case=False, na=False).map({True: 'Yes', False: 'No'})\n",
    "germany_df['Pets Friendly'] = germany_df['Amenities'].str.contains('Pets allowed', case=False, na=False).map({True: 'Yes', False: 'No'})\n",
    "germany_df['Laptop Workspace'] = germany_df['Amenities'].str.contains('Laptop friendly workspace', case=False, na=False).map({True: 'Yes', False: 'No'})\n",
    "germany_df['Family/Kids Friendly'] = germany_df['Amenities'].str.contains('Family/kid friendly', case=False, na=False).map({True: 'Yes', False: 'No'})"
   ]
  },
  {
   "cell_type": "code",
   "execution_count": 18,
   "id": "94943bac-7503-4803-a55c-05dd3a578ca2",
   "metadata": {},
   "outputs": [],
   "source": [
    "germany_df[\"Amenities\"] = germany_df[\"Amenities\"].fillna(\"Unknown\")"
   ]
  },
  {
   "cell_type": "code",
   "execution_count": 19,
   "id": "996e4852-c26c-411f-bec4-330223b57696",
   "metadata": {},
   "outputs": [
    {
     "data": {
      "text/plain": [
       "0"
      ]
     },
     "execution_count": 19,
     "metadata": {},
     "output_type": "execute_result"
    }
   ],
   "source": [
    "germany_df[\"Amenities\"].isnull().sum()"
   ]
  },
  {
   "cell_type": "code",
   "execution_count": 20,
   "id": "3bd29b2d-9496-491b-81b8-a9f0786bb87b",
   "metadata": {},
   "outputs": [],
   "source": [
    "germany_df[\"Amenities Count\"] = germany_df[\"Amenities Count\"].fillna(0)"
   ]
  },
  {
   "cell_type": "code",
   "execution_count": 21,
   "id": "819ea3c7-b833-457f-978b-fa1575dc4c3d",
   "metadata": {},
   "outputs": [],
   "source": [
    "# Fill Weekly Price using 10% discount from daily price\n",
    "germany_df['Weekly Price'] = germany_df['Weekly Price'].fillna(germany_df['Price'] * 7 * 0.9)\n",
    "\n",
    "# Fill Monthly Price using 20% discount from daily price\n",
    "germany_df['Monthly Price'] = germany_df['Monthly Price'].fillna(germany_df['Price'] * 30 * 0.8)"
   ]
  },
  {
   "cell_type": "code",
   "execution_count": 22,
   "id": "6b507460-fe47-4f80-85fd-6339db08c79c",
   "metadata": {},
   "outputs": [],
   "source": [
    "germany_df['Security Deposit'] = germany_df['Security Deposit'].fillna(\"0\")"
   ]
  },
  {
   "cell_type": "code",
   "execution_count": 23,
   "id": "bdde8b94-596b-4e8f-b5c5-3715500e65c6",
   "metadata": {},
   "outputs": [],
   "source": [
    "germany_df['Cleaning Fee'] = germany_df['Cleaning Fee'].fillna(\"0\")"
   ]
  },
  {
   "cell_type": "code",
   "execution_count": 24,
   "id": "3902030a-22fc-4ba4-a635-02ef20304916",
   "metadata": {},
   "outputs": [],
   "source": [
    "# Step 1: Calculate the mean Review Scores Rating for each Room Type\n",
    "room_type_means = germany_df.groupby('Room Type')['Review Scores Rating'].mean()\n",
    "\n",
    "# Step 2: Map those means to the dataframe\n",
    "germany_df['RoomType_Mean'] = germany_df['Room Type'].map(room_type_means)\n",
    "\n",
    "# Step 3: Fill missing values using the mapped means\n",
    "germany_df['Review Scores Rating'].fillna(germany_df['RoomType_Mean'], inplace=True)\n",
    "\n",
    "# Optional: Drop the temporary column\n",
    "germany_df.drop(columns='RoomType_Mean', inplace=True)"
   ]
  },
  {
   "cell_type": "code",
   "execution_count": 25,
   "id": "9e055f1d-0422-4da3-bd42-af3693618774",
   "metadata": {},
   "outputs": [
    {
     "data": {
      "text/plain": [
       "Room Type\n",
       "Entire home/apt    1.229906\n",
       "Private room       1.015616\n",
       "Shared room        1.960000\n",
       "Name: Reviews per Month, dtype: float64"
      ]
     },
     "execution_count": 25,
     "metadata": {},
     "output_type": "execute_result"
    }
   ],
   "source": [
    "# Step 1: Filter data to exclude outliers (0 to 5 only)\n",
    "filtered_df = germany_df[(germany_df['Reviews per Month'] >= 0) & (germany_df['Reviews per Month'] <= 5)]\n",
    "\n",
    "# Step 2: Compute median by room type from filtered data\n",
    "group_means = filtered_df.groupby('Room Type')['Reviews per Month'].mean()\n",
    "\n",
    "# Step 3: Fill missing using mapped medians\n",
    "germany_df['Reviews per Month'] = germany_df['Reviews per Month'].fillna(germany_df['Room Type'].map(group_means))\n",
    "group_means"
   ]
  },
  {
   "cell_type": "code",
   "execution_count": 26,
   "id": "dd5ec3d4-a80c-4d03-97b2-468d64d283a6",
   "metadata": {},
   "outputs": [],
   "source": [
    "germany_df.to_csv(\"Germany_Preprocessed.csv\",index = False)"
   ]
  },
  {
   "cell_type": "code",
   "execution_count": null,
   "id": "d8e57826-0baf-44a7-b8dc-7f37a1b44fcf",
   "metadata": {},
   "outputs": [],
   "source": []
  }
 ],
 "metadata": {
  "kernelspec": {
   "display_name": "Python 3 (ipykernel)",
   "language": "python",
   "name": "python3"
  },
  "language_info": {
   "codemirror_mode": {
    "name": "ipython",
    "version": 3
   },
   "file_extension": ".py",
   "mimetype": "text/x-python",
   "name": "python",
   "nbconvert_exporter": "python",
   "pygments_lexer": "ipython3",
   "version": "3.12.7"
  }
 },
 "nbformat": 4,
 "nbformat_minor": 5
}
